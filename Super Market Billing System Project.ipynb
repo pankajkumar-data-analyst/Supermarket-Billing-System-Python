{
 "cells": [
  {
   "cell_type": "code",
   "execution_count": 13,
   "id": "f77af8f1-9d23-40c9-9e93-fbaebe623d17",
   "metadata": {},
   "outputs": [],
   "source": [
    "\n",
    "#products is the dictionary which contains the items that are available in SuperMarket\n",
    "\n",
    "products = {\n",
    "    \"Laptop\": 1200,\n",
    "    \"Smartphone\": 800,\n",
    "    \"Tablet\": 400,\n",
    "    \"Smartwatch\": 200,\n",
    "    \"Headphones\": 150,\n",
    "    \"Bluetooth Speaker\": 100,\n",
    "    \"Gaming Console\": 500,\n",
    "    \"Television\": 900,\n",
    "    \"Camera\": 700,\n",
    "    \"Printer\": 250,\n",
    "    \"Monitor\": 300,\n",
    "    \"Keyboard\": 50,\n",
    "    \"Mouse\": 30,\n",
    "    \"External Hard Drive\": 120,\n",
    "    \"USB Flash Drive\": 20,\n",
    "    \"Router\": 90,\n",
    "    \"Smart Light\": 40,\n",
    "    \"Fitness Tracker\": 100,\n",
    "    \"Drone\": 1000,\n",
    "    \"Projector\": 600\n",
    "}"
   ]
  },
  {
   "cell_type": "code",
   "execution_count": 14,
   "id": "d86d5877-aad4-4891-8eea-925cf60e333c",
   "metadata": {},
   "outputs": [
    {
     "name": "stdout",
     "output_type": "stream",
     "text": [
      "-----------------Super Market Billing System-----------------\n"
     ]
    },
    {
     "name": "stdin",
     "output_type": "stream",
     "text": [
      "Enter Customer's name: Pankaj Kumar\n",
      "Enter Customer's phone number 1234567890\n",
      "Enter the Quantity of the product 5\n",
      "Enter the name of product which you want to buy: Camera\n",
      "Do you want to add more? n\n"
     ]
    },
    {
     "name": "stdout",
     "output_type": "stream",
     "text": [
      "........................................\n",
      "Customer Name: Pankaj kumar\n",
      "Phone Number: +911234567890\n",
      "Camera : 700 X 5\n",
      "Total Amount: 3500\n",
      "Discount Offer: 15.0 % OFF\n",
      "........................................\n",
      "Actual Amount: 2975.0\n",
      "........................................\n"
     ]
    },
    {
     "name": "stdin",
     "output_type": "stream",
     "text": [
      "Is there any Next person in queue? yes\n",
      "Enter Customer's name: Rahul\n",
      "Enter Customer's phone number 9876543210\n",
      "Enter the Quantity of the product 2\n",
      "Enter the name of product which you want to buy: Drone\n",
      "Do you want to add more? y\n",
      "Enter the Quantity of the product 3\n",
      "Enter the name of product which you want to buy: Mouse\n",
      "Do you want to add more? n\n"
     ]
    },
    {
     "name": "stdout",
     "output_type": "stream",
     "text": [
      "........................................\n",
      "Customer Name: Rahul\n",
      "Phone Number: +919876543210\n",
      "Drone : 1000 X 2\n",
      "Mouse : 30 X 3\n",
      "Total Amount: 2090\n",
      "Discount Offer: 15.0 % OFF\n",
      "........................................\n",
      "Actual Amount: 1776.5\n",
      "........................................\n"
     ]
    },
    {
     "name": "stdin",
     "output_type": "stream",
     "text": [
      "Is there any Next person in queue? no\n"
     ]
    },
    {
     "name": "stdout",
     "output_type": "stream",
     "text": [
      "Thanks for Shopping.\n"
     ]
    }
   ],
   "source": [
    "print(\"-----------------Super Market Billing System-----------------\")\n",
    "while True:\n",
    "    name=input(\"Enter Customer's name:\").capitalize()\n",
    "    phone_number=\"+91\"+input(\"Enter Customer's phone number\")\n",
    "    amount=0 #The amount before the discount\n",
    "    cart={} # The cart is an empty dictionary to demonstrate the price, and quantity in a better way\n",
    "    while True:\n",
    "        quantity=int(input(\"Enter the Quantity of the product\"))\n",
    "        while True:\n",
    "            product_name=input(\"Enter the name of product which you want to buy:\").title()\n",
    "            if product_name not in products.keys():\n",
    "                print(\"try again with the correct spelling of the product\")\n",
    "            else:\n",
    "                break\n",
    "        amount+=quantity*products[product_name]\n",
    "        cart[product_name]=products[product_name],\"X\",quantity\n",
    "        repeat=input(\"Do you want to add more?\").lower() #repeat variable is defined to check that you want to add more product or not\n",
    "        if repeat in(\"no\",\"n\"):\n",
    "            break\n",
    "    discount=0 #to define the discount percentage that will be given to a customer\n",
    "    if amount<=500:\n",
    "        discount=0.05\n",
    "        act_amt=amount-(amount*discount) #act_amt is the amount after subtracting the discount percentage \n",
    "    elif amount <=1000:\n",
    "        discount=0.10\n",
    "        act_amt=amount-(amount*discount)\n",
    "    elif amount <=5000:\n",
    "        discount=0.15\n",
    "        act_amt=amount-(amount*discount)\n",
    "    else:\n",
    "        discount=0.20\n",
    "        act_amt=amount-(amount*discount)\n",
    "    print(\".\"*40)\n",
    "    print(\"Customer Name:\",name)\n",
    "    print(\"Phone Number:\",phone_number)\n",
    "    for i,j in cart.items():\n",
    "        p,x,q=j\n",
    "        print(i,\":\",p,x,q)\n",
    "        \n",
    "    print(\"Total Amount:\",amount)\n",
    "    print(\"Discount Offer:\",discount*100,\"% OFF\")\n",
    "    print(\".\"*40)\n",
    "    print(\"Actual Amount:\",act_amt)\n",
    "    print(\".\"*40)\n",
    "    nxt_person=input(\"Is there any Next person in queue?\").lower()\n",
    "    if nxt_person in(\"no\",\"n\"):\n",
    "        break\n",
    "print(\"Thanks for Shopping.\")        "
   ]
  }
 ],
 "metadata": {
  "kernelspec": {
   "display_name": "Python 3 (ipykernel)",
   "language": "python",
   "name": "python3"
  },
  "language_info": {
   "codemirror_mode": {
    "name": "ipython",
    "version": 3
   },
   "file_extension": ".py",
   "mimetype": "text/x-python",
   "name": "python",
   "nbconvert_exporter": "python",
   "pygments_lexer": "ipython3",
   "version": "3.11.0"
  }
 },
 "nbformat": 4,
 "nbformat_minor": 5
}
